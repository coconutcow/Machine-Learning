{
 "cells": [
  {
   "cell_type": "code",
   "execution_count": 258,
   "metadata": {},
   "outputs": [],
   "source": [
    "import requests\n",
    "from bs4 import BeautifulSoup\n",
    "pages=[\"https://www.delish.com/cooking/recipe-ideas/recipes/a49576/creamy-chicken-marsala-recipe/\",\"https://www.delish.com/cooking/recipe-ideas/a28832868/mac-and-cheese-lasagna-recipe/\"]\n",
    "data=[]"
   ]
  },
  {
   "cell_type": "code",
   "execution_count": 259,
   "metadata": {},
   "outputs": [],
   "source": [
    "for pg in pages:\n",
    "    page = requests.get(pg)\n",
    "    soup = BeautifulSoup(page.content, 'html.parser')\n",
    "    table = soup.find_all(class_=\"ingredient-lists\")\n",
    "    ingredients=table[0].text\n",
    "    ingredients=ingredients.replace(\"\\t\",\"\").replace(\"\\n\",\",\")\n",
    "    ingredients=ingredients.replace(\",,,\",\",\")\n",
    "    ingredients=ingredients.replace(\",,\",\",\")\n",
    "    title = soup.find(class_=\"content-hed recipe-hed\")\n",
    "    title=title.text\n",
    "    directions=soup.find_all(class_='direction-lists')\n",
    "    directions=directions[0].text\n",
    "    directions=directions.replace(\"\\n\",\"\")\n",
    "    data.append((title,ingredients,directions))"
   ]
  },
  {
   "cell_type": "code",
   "execution_count": 260,
   "metadata": {},
   "outputs": [
    {
     "data": {
      "text/plain": [
       "[('Creamy Chicken Marsala',\n",
       "  ',1 ,c.,all-purpose flour,kosher salt,Freshly ground black pepper,4 ,boneless skinless chicken breasts,2 ,tbsp.,butter, divided,1 ,tbsp.,extra-virgin olive oil,8 ,oz.,baby bella or cremini mushrooms, sliced,2 ,cloves garlic, minced, 3/4,c.,marsala wine, 3/4,c.,low-sodium chicken broth, 1/2,c.,heavy cream,2 ,tbsp.,Freshly chopped parsley,Cooked angel hair, for serving,',\n",
       "  'In a shallow bowl, season flour with salt and pepper. Dredge chicken in flour.In a large skillet over medium heat, melt 1 tablespoon butter and oil. Add chicken and cook until golden on both sides, about 5 minutes per side. Remove chicken from pan and place on a clean plate.Make marsala sauce: Melt remaining 1 tablespoon\\xa0butter in skillet and add mushrooms. Cook until mushrooms are golden and liquid has been released, 6 to 8 minutes (if the pan looks dry, add a splash of olive oil). Add garlic and cook until fragrant, then season with salt.Add marsala, chicken broth, heavy cream, and parsley and bring to a simmer.Return chicken to skillet and spoon sauce over breasts. Simmer until chicken is cooked through, about 10 minutes.Serve over angel hair, if desired.'),\n",
       " ('Mac & Cheese Lasagna',\n",
       "  ',18 ,lasagna noodles,3 ,tbsp.,extra-virgin olive oil, plus more for noodles,1 1/2,tsp.,kosher salt, plus more for seasoning,1 ,c.,panko breadcrumbs, 1/4,c.,freshly grated Parmesan, 1/2,c.,(1 stick) butter, 1/2,c.,flour\\xa0,5 ,c.,whole milk,Freshly ground black pepper,4 ,c.,shredded Cheddar, divided,3 ,c.,shredded mozzarella,10 ,slices bacon, cooked and crumbled,2 ,medium jalapeños, cut thinly into rounds,Freshly chopped parsley, for garnish,',\n",
       "  ' Preheat oven to 375º. In a large pot of salted boiling water, cook pasta according to package directions until al dente, about 2 minutes. Drain and drizzle a bit of olive oil to prevent noodles from sticking together.In a medium bowl, stir to combine 3 tablespoons olive oil with panko and parmesan.\\xa0\\xa0In a large saucepan, melt 1 stick butter. Sprinkle over flour and cook until slightly golden, 2 to 3 minutes. Pour in milk and whisk until combined. Season with salt and pepper and let simmer until it begins to thicken, about 5 minutes.Remove pan from heat and whisk in 3 1/2 cups cheddar and mozzarella until smooth.Ladle a small amount of cheese into the bottom of a 9\"-x-13\" baking dish. Add a layer of noodles, more cheese sauce, and about 1/5 bacon and jalapeño slices. Continue until all ingredients are used, ending with lasagna noodles. Add remaining cheddar and panko mixture in an even layer on top of lasagna.Bake until cheese is bubbling and panko is golden, 25 to 30 minutes. Let cool 10 to 15 minutes before slicing and serving.')]"
      ]
     },
     "execution_count": 260,
     "metadata": {},
     "output_type": "execute_result"
    }
   ],
   "source": [
    "data"
   ]
  },
  {
   "cell_type": "code",
   "execution_count": null,
   "metadata": {},
   "outputs": [],
   "source": []
  }
 ],
 "metadata": {
  "kernelspec": {
   "display_name": "Python 3",
   "language": "python",
   "name": "python3"
  },
  "language_info": {
   "codemirror_mode": {
    "name": "ipython",
    "version": 3
   },
   "file_extension": ".py",
   "mimetype": "text/x-python",
   "name": "python",
   "nbconvert_exporter": "python",
   "pygments_lexer": "ipython3",
   "version": "3.6.8"
  }
 },
 "nbformat": 4,
 "nbformat_minor": 2
}
